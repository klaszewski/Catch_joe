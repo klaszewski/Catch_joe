import pandas as pd
import numpy as np
import matplotlib.pyplot as plt
import seaborn as sns
from pandas import DatetimeIndex as dt
sns.set_style("whitegrid")

df = pd.read_json('train.json')

df['week_day'] = df['date'].dt.dayofweek
df = df.drop('date', axis = 1)

df['hour'] = df['time'].apply(lambda x: pd.to_datetime(x).hour + pd.to_datetime(x).minute/60)
df = df.drop('time', axis = 1)

site_names = ['lenta.ru', 'mail.google.com', 'slack.com', 'toptal.com', 'vk.com', 'youtube.com']

hist = df['sites'].apply(pd.Series)
sites = hist.apply(lambda x: x.str['site'])
sites.fillna('', inplace=True)

def order_sites(site):
    if site in site_names:
        return site
    elif site == "":
        return "none"
    else:
        return "other"

for i in sites.columns:
    df["order" + str(i)] = sites[i].apply(order_sites)

def get_sites(s):
    list =[0] * len(site_names)
    for site in s:
        if site['site'] in site_names:
            idx = site_names.index(site['site'])
            list[idx] += site['length']
    return pd.Series(list, index=site_names)

df[site_names] = df['sites'].apply(lambda x: get_sites(x))

df['Joe'] = df['user_id'].apply(lambda x: 0 if x == 0 else 1)
df = df.drop('user_id', axis = 1)

df = df.drop('sites',axis = 1)

y = df['Joe'].reset_index(drop = True)
X = df.drop('Joe', axis = 1)

from sklearn.preprocessing import OrdinalEncoder

enc = OrdinalEncoder()

X_cat = X.select_dtypes(include = 'object').columns
X[X_cat] = enc.fit_transform(X[X_cat])
